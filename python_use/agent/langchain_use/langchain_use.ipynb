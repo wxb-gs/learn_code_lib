{
 "cells": [
  {
   "cell_type": "markdown",
   "id": "dd184296-4b17-4b06-8a9a-aca4cfdd9e9b",
   "metadata": {},
   "source": [
    "# 基本使用\n",
    "openai风格api\n",
    "```python\n",
    "import os\n",
    "from openai import OpenAI\n",
    "\n",
    "client = OpenAI(\n",
    "    # 若没有配置环境变量，请用百炼API Key将下行替换为：api_key=\"sk-xxx\",\n",
    "    api_key=os.getenv(\"DASHSCOPE_API_KEY\"), \n",
    "    base_url=\"https://dashscope.aliyuncs.com/compatible-mode/v1\",\n",
    ")\n",
    "completion = client.chat.completions.create(\n",
    "    model=\"qwen-plus\", # 此处以qwen-plus为例，可按需更换模型名称。模型列表：https://help.aliyun.com/zh/model-studio/getting-started/models\n",
    "    messages=[\n",
    "        {'role': 'system', 'content': 'You are a helpful assistant.'},\n",
    "        {'role': 'user', 'content': '你是谁？'}],\n",
    "    )\n",
    "    \n",
    "print(completion.model_dump_json())\n",
    "```"
   ]
  },
  {
   "cell_type": "code",
   "execution_count": null,
   "id": "713d6fbe-ec18-4549-afe6-1dd27a9fbb04",
   "metadata": {},
   "outputs": [],
   "source": [
    "%pip install -U langchain-core langchain langchain-community langchain-openai\n",
    "\n",
    "# 向量库\n",
    "%pip install chromadb faiss-cpu"
   ]
  },
  {
   "cell_type": "markdown",
   "id": "027b9a0b-a7ee-4d7b-94f2-f9aba511cfe0",
   "metadata": {},
   "source": [
    "### 创建模型并使用\n",
    "#### langchain-openai风格的api调用"
   ]
  },
  {
   "cell_type": "code",
   "execution_count": 2,
   "id": "89ae200d-5219-4b06-b7c5-3e5cab241b06",
   "metadata": {},
   "outputs": [],
   "source": [
    "import os\n",
    "# from dotenv import load_dotenv\n",
    "# # 加载环境变量\n",
    "# load_dotenv()  \n",
    "\n",
    "### 设置环境\n",
    "os.environ[\"OPENAI_API_KEY\"] =  'sk-ec9abbcb64d241998f27e89b452dceb4' # 阿里云Qwen密钥\n",
    "os.environ[\"OPENAI_BASE_URL\"] = 'https://dashscope.aliyuncs.com/compatible-mode/v1'   # 例如：https://dashscope.aliyuncs.com/compatible-mode/v1"
   ]
  },
  {
   "cell_type": "code",
   "execution_count": 3,
   "id": "022dbc7c-59ae-4744-9cbc-30b2f0a023c6",
   "metadata": {},
   "outputs": [
    {
     "name": "stdout",
     "output_type": "stream",
     "text": [
      "Requirement already satisfied: langchain-core in c:\\users\\mix\\.conda\\envs\\agents\\lib\\site-packages (0.3.49)\n",
      "Collecting langchain-core\n",
      "  Downloading langchain_core-0.3.51-py3-none-any.whl.metadata (5.9 kB)\n",
      "Requirement already satisfied: langchain in c:\\users\\mix\\.conda\\envs\\agents\\lib\\site-packages (0.3.22)\n",
      "Collecting langchain\n",
      "  Downloading langchain-0.3.23-py3-none-any.whl.metadata (7.8 kB)\n",
      "Requirement already satisfied: langchain-community in c:\\users\\mix\\.conda\\envs\\agents\\lib\\site-packages (0.3.20)\n",
      "Collecting langchain-community\n",
      "  Downloading langchain_community-0.3.21-py3-none-any.whl.metadata (2.4 kB)\n",
      "Requirement already satisfied: langchain-openai in c:\\users\\mix\\.conda\\envs\\agents\\lib\\site-packages (0.3.11)\n",
      "Collecting langchain-openai\n",
      "  Downloading langchain_openai-0.3.12-py3-none-any.whl.metadata (2.3 kB)\n",
      "Requirement already satisfied: langsmith<0.4,>=0.1.125 in c:\\users\\mix\\.conda\\envs\\agents\\lib\\site-packages (from langchain-core) (0.3.19)\n",
      "Requirement already satisfied: tenacity!=8.4.0,<10.0.0,>=8.1.0 in c:\\users\\mix\\.conda\\envs\\agents\\lib\\site-packages (from langchain-core) (8.2.3)\n",
      "Requirement already satisfied: jsonpatch<2.0,>=1.33 in c:\\users\\mix\\.conda\\envs\\agents\\lib\\site-packages (from langchain-core) (1.33)\n",
      "Requirement already satisfied: PyYAML>=5.3 in c:\\users\\mix\\.conda\\envs\\agents\\lib\\site-packages (from langchain-core) (6.0.1)\n",
      "Requirement already satisfied: packaging<25,>=23.2 in c:\\users\\mix\\.conda\\envs\\agents\\lib\\site-packages (from langchain-core) (24.2)\n",
      "Requirement already satisfied: typing-extensions>=4.7 in c:\\users\\mix\\.conda\\envs\\agents\\lib\\site-packages (from langchain-core) (4.11.0)\n",
      "Requirement already satisfied: pydantic<3.0.0,>=2.5.2 in c:\\users\\mix\\.conda\\envs\\agents\\lib\\site-packages (from langchain-core) (2.9.2)\n",
      "Collecting langchain-text-splitters<1.0.0,>=0.3.8 (from langchain)\n",
      "  Downloading langchain_text_splitters-0.3.8-py3-none-any.whl.metadata (1.9 kB)\n",
      "Requirement already satisfied: SQLAlchemy<3,>=1.4 in c:\\users\\mix\\.conda\\envs\\agents\\lib\\site-packages (from langchain) (2.0.39)\n",
      "Requirement already satisfied: requests<3,>=2 in c:\\users\\mix\\.conda\\envs\\agents\\lib\\site-packages (from langchain) (2.32.3)\n",
      "Requirement already satisfied: async-timeout<5.0.0,>=4.0.0 in c:\\users\\mix\\.conda\\envs\\agents\\lib\\site-packages (from langchain) (4.0.3)\n",
      "Requirement already satisfied: aiohttp<4.0.0,>=3.8.3 in c:\\users\\mix\\.conda\\envs\\agents\\lib\\site-packages (from langchain-community) (3.8.6)\n",
      "Requirement already satisfied: dataclasses-json<0.7,>=0.5.7 in c:\\users\\mix\\.conda\\envs\\agents\\lib\\site-packages (from langchain-community) (0.6.7)\n",
      "Requirement already satisfied: pydantic-settings<3.0.0,>=2.4.0 in c:\\users\\mix\\.conda\\envs\\agents\\lib\\site-packages (from langchain-community) (2.8.1)\n",
      "Requirement already satisfied: httpx-sse<1.0.0,>=0.4.0 in c:\\users\\mix\\.conda\\envs\\agents\\lib\\site-packages (from langchain-community) (0.4.0)\n",
      "Requirement already satisfied: numpy<3,>=1.26.2 in c:\\users\\mix\\.conda\\envs\\agents\\lib\\site-packages (from langchain-community) (1.26.4)\n",
      "Requirement already satisfied: openai<2.0.0,>=1.68.2 in c:\\users\\mix\\.conda\\envs\\agents\\lib\\site-packages (from langchain-openai) (1.68.2)\n",
      "Requirement already satisfied: tiktoken<1,>=0.7 in c:\\users\\mix\\.conda\\envs\\agents\\lib\\site-packages (from langchain-openai) (0.7.0)\n",
      "Requirement already satisfied: attrs>=17.3.0 in c:\\users\\mix\\.conda\\envs\\agents\\lib\\site-packages (from aiohttp<4.0.0,>=3.8.3->langchain-community) (25.3.0)\n",
      "Requirement already satisfied: charset-normalizer<4.0,>=2.0 in c:\\users\\mix\\.conda\\envs\\agents\\lib\\site-packages (from aiohttp<4.0.0,>=3.8.3->langchain-community) (3.4.1)\n",
      "Requirement already satisfied: multidict<7.0,>=4.5 in c:\\users\\mix\\.conda\\envs\\agents\\lib\\site-packages (from aiohttp<4.0.0,>=3.8.3->langchain-community) (6.2.0)\n",
      "Requirement already satisfied: yarl<2.0,>=1.0 in c:\\users\\mix\\.conda\\envs\\agents\\lib\\site-packages (from aiohttp<4.0.0,>=3.8.3->langchain-community) (1.18.3)\n",
      "Requirement already satisfied: frozenlist>=1.1.1 in c:\\users\\mix\\.conda\\envs\\agents\\lib\\site-packages (from aiohttp<4.0.0,>=3.8.3->langchain-community) (1.5.0)\n",
      "Requirement already satisfied: aiosignal>=1.1.2 in c:\\users\\mix\\.conda\\envs\\agents\\lib\\site-packages (from aiohttp<4.0.0,>=3.8.3->langchain-community) (1.3.2)\n",
      "Requirement already satisfied: marshmallow<4.0.0,>=3.18.0 in c:\\users\\mix\\.conda\\envs\\agents\\lib\\site-packages (from dataclasses-json<0.7,>=0.5.7->langchain-community) (3.26.1)\n",
      "Requirement already satisfied: typing-inspect<1,>=0.4.0 in c:\\users\\mix\\.conda\\envs\\agents\\lib\\site-packages (from dataclasses-json<0.7,>=0.5.7->langchain-community) (0.8.0)\n",
      "Requirement already satisfied: jsonpointer>=1.9 in c:\\users\\mix\\.conda\\envs\\agents\\lib\\site-packages (from jsonpatch<2.0,>=1.33->langchain-core) (3.0.0)\n",
      "Requirement already satisfied: httpx<1,>=0.23.0 in c:\\users\\mix\\.conda\\envs\\agents\\lib\\site-packages (from langsmith<0.4,>=0.1.125->langchain-core) (0.28.1)\n",
      "Requirement already satisfied: orjson<4.0.0,>=3.9.14 in c:\\users\\mix\\.conda\\envs\\agents\\lib\\site-packages (from langsmith<0.4,>=0.1.125->langchain-core) (3.10.16)\n",
      "Requirement already satisfied: requests-toolbelt<2.0.0,>=1.0.0 in c:\\users\\mix\\.conda\\envs\\agents\\lib\\site-packages (from langsmith<0.4,>=0.1.125->langchain-core) (1.0.0)\n",
      "Requirement already satisfied: zstandard<0.24.0,>=0.23.0 in c:\\users\\mix\\.conda\\envs\\agents\\lib\\site-packages (from langsmith<0.4,>=0.1.125->langchain-core) (0.23.0)\n",
      "Requirement already satisfied: anyio<5,>=3.5.0 in c:\\users\\mix\\.conda\\envs\\agents\\lib\\site-packages (from openai<2.0.0,>=1.68.2->langchain-openai) (4.9.0)\n",
      "Requirement already satisfied: distro<2,>=1.7.0 in c:\\users\\mix\\.conda\\envs\\agents\\lib\\site-packages (from openai<2.0.0,>=1.68.2->langchain-openai) (1.9.0)\n",
      "Requirement already satisfied: jiter<1,>=0.4.0 in c:\\users\\mix\\.conda\\envs\\agents\\lib\\site-packages (from openai<2.0.0,>=1.68.2->langchain-openai) (0.9.0)\n",
      "Requirement already satisfied: sniffio in c:\\users\\mix\\.conda\\envs\\agents\\lib\\site-packages (from openai<2.0.0,>=1.68.2->langchain-openai) (1.3.1)\n",
      "Requirement already satisfied: tqdm>4 in c:\\users\\mix\\.conda\\envs\\agents\\lib\\site-packages (from openai<2.0.0,>=1.68.2->langchain-openai) (4.66.2)\n",
      "Requirement already satisfied: annotated-types>=0.6.0 in c:\\users\\mix\\.conda\\envs\\agents\\lib\\site-packages (from pydantic<3.0.0,>=2.5.2->langchain-core) (0.7.0)\n",
      "Requirement already satisfied: pydantic-core==2.23.4 in c:\\users\\mix\\.conda\\envs\\agents\\lib\\site-packages (from pydantic<3.0.0,>=2.5.2->langchain-core) (2.23.4)\n",
      "Requirement already satisfied: python-dotenv>=0.21.0 in c:\\users\\mix\\.conda\\envs\\agents\\lib\\site-packages (from pydantic-settings<3.0.0,>=2.4.0->langchain-community) (1.0.0)\n",
      "Requirement already satisfied: idna<4,>=2.5 in c:\\users\\mix\\.conda\\envs\\agents\\lib\\site-packages (from requests<3,>=2->langchain) (3.10)\n",
      "Requirement already satisfied: urllib3<3,>=1.21.1 in c:\\users\\mix\\.conda\\envs\\agents\\lib\\site-packages (from requests<3,>=2->langchain) (1.26.20)\n",
      "Requirement already satisfied: certifi>=2017.4.17 in c:\\users\\mix\\.conda\\envs\\agents\\lib\\site-packages (from requests<3,>=2->langchain) (2025.1.31)\n",
      "Requirement already satisfied: greenlet!=0.4.17 in c:\\users\\mix\\.conda\\envs\\agents\\lib\\site-packages (from SQLAlchemy<3,>=1.4->langchain) (3.1.1)\n",
      "Requirement already satisfied: regex>=2022.1.18 in c:\\users\\mix\\.conda\\envs\\agents\\lib\\site-packages (from tiktoken<1,>=0.7->langchain-openai) (2023.12.25)\n",
      "Requirement already satisfied: exceptiongroup>=1.0.2 in c:\\users\\mix\\.conda\\envs\\agents\\lib\\site-packages (from anyio<5,>=3.5.0->openai<2.0.0,>=1.68.2->langchain-openai) (1.2.2)\n",
      "Requirement already satisfied: httpcore==1.* in c:\\users\\mix\\.conda\\envs\\agents\\lib\\site-packages (from httpx<1,>=0.23.0->langsmith<0.4,>=0.1.125->langchain-core) (1.0.7)\n",
      "Requirement already satisfied: h11<0.15,>=0.13 in c:\\users\\mix\\.conda\\envs\\agents\\lib\\site-packages (from httpcore==1.*->httpx<1,>=0.23.0->langsmith<0.4,>=0.1.125->langchain-core) (0.14.0)\n",
      "Requirement already satisfied: colorama in c:\\users\\mix\\.conda\\envs\\agents\\lib\\site-packages (from tqdm>4->openai<2.0.0,>=1.68.2->langchain-openai) (0.4.6)\n",
      "Requirement already satisfied: mypy-extensions>=0.3.0 in c:\\users\\mix\\.conda\\envs\\agents\\lib\\site-packages (from typing-inspect<1,>=0.4.0->dataclasses-json<0.7,>=0.5.7->langchain-community) (1.0.0)\n",
      "Requirement already satisfied: propcache>=0.2.0 in c:\\users\\mix\\.conda\\envs\\agents\\lib\\site-packages (from yarl<2.0,>=1.0->aiohttp<4.0.0,>=3.8.3->langchain-community) (0.3.0)\n",
      "Downloading langchain_core-0.3.51-py3-none-any.whl (423 kB)\n",
      "Downloading langchain-0.3.23-py3-none-any.whl (1.0 MB)\n",
      "   ---------------------------------------- 0.0/1.0 MB ? eta -:--:--\n",
      "   ------------------------------- -------- 0.8/1.0 MB 3.7 MB/s eta 0:00:01\n",
      "   ---------------------------------------- 1.0/1.0 MB 4.8 MB/s eta 0:00:00\n",
      "Downloading langchain_community-0.3.21-py3-none-any.whl (2.5 MB)\n",
      "   ---------------------------------------- 0.0/2.5 MB ? eta -:--:--\n",
      "   -------------------- ------------------- 1.3/2.5 MB 6.7 MB/s eta 0:00:01\n",
      "   ---------------------------------------- 2.5/2.5 MB 8.5 MB/s eta 0:00:00\n",
      "Downloading langchain_openai-0.3.12-py3-none-any.whl (61 kB)\n",
      "Downloading langchain_text_splitters-0.3.8-py3-none-any.whl (32 kB)\n",
      "Installing collected packages: langchain-core, langchain-text-splitters, langchain-openai, langchain, langchain-community\n",
      "  Attempting uninstall: langchain-core\n",
      "    Found existing installation: langchain-core 0.3.49\n",
      "    Uninstalling langchain-core-0.3.49:\n",
      "      Successfully uninstalled langchain-core-0.3.49\n",
      "  Attempting uninstall: langchain-text-splitters\n",
      "    Found existing installation: langchain-text-splitters 0.3.7\n",
      "    Uninstalling langchain-text-splitters-0.3.7:\n",
      "      Successfully uninstalled langchain-text-splitters-0.3.7\n",
      "  Attempting uninstall: langchain-openai\n",
      "    Found existing installation: langchain-openai 0.3.11\n",
      "    Uninstalling langchain-openai-0.3.11:\n",
      "      Successfully uninstalled langchain-openai-0.3.11\n",
      "  Attempting uninstall: langchain\n",
      "    Found existing installation: langchain 0.3.22\n",
      "    Uninstalling langchain-0.3.22:\n",
      "      Successfully uninstalled langchain-0.3.22\n",
      "  Attempting uninstall: langchain-community\n",
      "    Found existing installation: langchain-community 0.3.20\n",
      "    Uninstalling langchain-community-0.3.20:\n",
      "      Successfully uninstalled langchain-community-0.3.20\n",
      "Successfully installed langchain-0.3.23 langchain-community-0.3.21 langchain-core-0.3.51 langchain-openai-0.3.12 langchain-text-splitters-0.3.8\n"
     ]
    }
   ],
   "source": [
    "from langchain_openai import ChatOpenAI\n",
    "\n",
    "# 初始化大模型\n",
    "llm = ChatOpenAI(\n",
    "    # model=os.getenv('DEEPSEEK_MODEL'),\n",
    "    # api_key=os.getenv('DEEPSEEK_API_KEY'),\n",
    "    # base_url=os.getenv('DEEPSEEK_URL')\n",
    "    model = \"qwen-plus\",\n",
    "    api_key =  os.getenv('OPENAI_API_KEY'),\n",
    "    base_url = os.getenv('OPENAI_BASE_URL')\n",
    ")"
   ]
  },
  {
   "cell_type": "markdown",
   "id": "65300e3e-8806-4ed1-9b86-557ac3dfd2af",
   "metadata": {},
   "source": [
    "**这段代码使用了LangChain的LCEL（LangChain Expression Language）语法构建了一个处理链。**\n",
    "在LCEL中，| 符号表示管道操作符，将前一步的输出作为后一步的输入"
   ]
  },
  {
   "cell_type": "code",
   "execution_count": 7,
   "id": "bd47d4df-23e0-4d70-8149-aec4480666cb",
   "metadata": {},
   "outputs": [
    {
     "name": "stdout",
     "output_type": "stream",
     "text": [
      "好的！我们可以用一个比喻来解释机器学习的概念：**“机器学习就像教小孩辨认苹果和橙子。”**\n",
      "\n",
      "想象一下，你正在教一个小孩子如何区分苹果和橙子。你会怎么做呢？\n",
      "\n",
      "1. **提供样本（训练数据）：**  \n",
      "   你不会直接告诉孩子苹果是什么、橙子是什么，而是拿出一堆苹果和橙子，一个个指给他看：“这是苹果，它是红色的，光滑的；这是橙子，它是橙色的，表面有点粗糙。”\n",
      "\n",
      "   类比到机器学习中，这些苹果和橙子就是“数据”，而你指着它们告诉孩子它们的名字，这就是“标注数据”。机器学习模型通过这些数据来学习规律。\n",
      "\n",
      "2. **总结规律（训练模型）：**  \n",
      "   孩子看了很多苹果和橙子之后，开始在脑海中形成一些规则，比如“红色、光滑的是苹果；橙色、粗糙的是橙子”。虽然他可能无法用语言准确描述这些规则，但他已经开始学会分辨了。\n",
      "\n",
      "   在机器学习中，模型会从数据中提取特征并总结规律。比如，算法可能会发现苹果的颜色更红，橙子的颜色更黄，或者苹果的形状更圆润等。\n",
      "\n",
      "3. **测试能力（验证模型）：**  \n",
      "   当你觉得孩子已经学会了，你可能会拿出一个新的水果让他辨认：“这个是什么？”如果他说对了，说明他已经掌握了如何区分苹果和橙子的能力。\n",
      "\n",
      "   在机器学习中，这一步叫做“测试集评估”。我们用之前没见过的数据来检验模型是否真正学会了规律，而不是仅仅记住了之前的样本。\n",
      "\n",
      "4. **应用知识（部署模型）：**  \n",
      "   最后，当孩子完全学会了如何分辨苹果和橙子，你可以放心地让他去超市挑选水果。无论遇到什么样的苹果或橙子，他都能正确判断。\n",
      "\n",
      "   同样地，机器学习模型在经过充分训练和验证后，可以被用来解决实际问题，比如分类、预测或生成新内容。\n",
      "\n",
      "---\n",
      "\n",
      "### 总结：\n",
      "机器学习的核心就是让计算机像小孩子一样，通过观察大量例子（数据），总结出某种规律（模型），然后用这种规律去处理新的情况（预测）。这种方法不需要人类明确地编写每一条规则，而是让机器自己从数据中“学习”出来。\n",
      "\n",
      "希望这个比喻能帮助你更好地理解机器学习的概念！ 😊\n"
     ]
    }
   ],
   "source": [
    "# 管道式语法构建工作流\n",
    "from langchain_core.prompts import ChatPromptTemplate\n",
    "\n",
    "chain = (\n",
    "    ChatPromptTemplate.from_template(\"用比喻解释{term}的概念：\") \n",
    "    | llm \n",
    "    | (lambda x: x.content)  # 提取文本\n",
    ")\n",
    "print(chain.invoke({\"term\": \"机器学习\"}))"
   ]
  },
  {
   "cell_type": "code",
   "execution_count": null,
   "id": "55addd48-0d62-4c06-8b3c-fca400f8fd03",
   "metadata": {},
   "outputs": [
    {
     "name": "stdout",
     "output_type": "stream",
     "text": [
      "量子纠缠是一种奇特的量子现象，它描述了一种特殊的状态，在这种状态下，两个或多个粒子之间存在一种深刻的关联，即使它们相隔很远。这种关联使得对一个粒子的测量结果会立即影响到另一个粒子的状态，无论它们之间的距离有多远。\n",
      "\n",
      "### 1. **什么是量子纠缠？**\n",
      "量子纠缠发生在两个或多个粒子（如光子、电子等）在相互作用后形成的一种状态中。在这种状态下，单个粒子的状态无法被独立描述，而只能通过整个系统的波函数来描述。换句话说，纠缠态中的粒子是“绑定”在一起的，它们的状态是高度相关的。\n",
      "\n",
      "例如，假设我们有两个纠缠的粒子 A 和 B，它们的一个属性（如自旋）处于叠加态。如果我们测量粒子 A 的自旋为“向上”，那么粒子 B 的自旋会立即变为“向下”（假设它们的总自旋守恒）。这种关联不受距离限制，即使 A 和 B 相隔数光年。\n",
      "\n",
      "---\n",
      "\n",
      "### 2. **纠缠的本质：非局域性**\n",
      "量子纠缠的核心特征之一是非局域性（non-locality），即纠缠粒子之间的关联似乎超越了空间和时间的限制。爱因斯坦曾将这一现象称为“幽灵般的超距作用”（spooky action at a distance），因为他认为这种现象违反了经典物理中的因果律和局域性原则。\n",
      "\n",
      "然而，量子力学的实验结果表明，纠缠确实存在，并且符合量子理论的预测。尽管如此，纠缠并不允许信息以超光速传递，因为单独测量一个粒子的结果仍然是随机的，只有通过比较多个测量结果才能揭示纠缠的存在。\n",
      "\n",
      "---\n",
      "\n",
      "### 3. **如何产生量子纠缠？**\n",
      "量子纠缠可以通过多种方式产生，例如：\n",
      "- **自发参量下转换**：在非线性晶体中，一个高能光子可以分裂成两个低能光子，这两个光子通常处于纠缠态。\n",
      "- **量子点**：通过操控半导体中的电子，可以生成纠缠的电子对。\n",
      "- **超导量子比特**：在量子计算中，超导电路可以用来生成纠缠态。\n",
      "\n",
      "---\n",
      "\n",
      "### 4. **量子纠缠的应用**\n",
      "量子纠缠不仅是基础物理研究的重要课题，还具有广泛的实际应用：\n",
      "- **量子通信**：利用纠缠态可以实现量子密钥分发（QKD），从而构建理论上不可破解的加密系统。\n",
      "- **量子计算**：纠缠是量子计算机中实现量子并行性和量子加速的关键资源。\n",
      "- **量子 teleportation**：通过纠缠，可以将一个粒子的状态“传送”到另一个粒子上，而无需实际传输粒子本身。\n",
      "- **量子传感**：纠缠态可以用于提高测量精度，例如在引力波探测器中。\n",
      "\n",
      "---\n",
      "\n",
      "### 5. **经典与量子的区别**\n",
      "在经典物理中，两个物体之间的关联总是可以通过局部变量来解释。例如，如果两个盒子分别装有红色和蓝色的小球，打开一个盒子看到红色小球时，我们知道另一个盒子里一定是蓝色小球。这种关联是基于预先设定的规则。\n",
      "\n",
      "但在量子世界中，纠缠态的粒子并没有预先确定的状态。直到测量之前，它们都处于叠加态，只有在测量时才会“坍缩”到某个确定的状态。这种性质使得量子纠缠不同于任何经典现象。\n",
      "\n",
      "---\n",
      "\n",
      "### 总结\n",
      "量子纠缠是量子力学中最神秘和最强大的现象之一。它不仅挑战了我们对现实的传统理解，还为未来的科技发展提供了无限可能。尽管其本质仍有许多未解之谜，但科学家们正在不断深入探索这一奇妙的现象。\n"
     ]
    }
   ],
   "source": [
    "response = llm.invoke(\"解释量子纠缠\")\n",
    "print(response.content)"
   ]
  },
  {
   "cell_type": "markdown",
   "id": "c9fd312e-719b-41f6-acab-67697cd334ad",
   "metadata": {},
   "source": [
    "#### 调用自定义工具"
   ]
  },
  {
   "cell_type": "code",
   "execution_count": 7,
   "id": "812b1fc6-5378-4bc6-9d43-6295812910e8",
   "metadata": {},
   "outputs": [
    {
     "name": "stdout",
     "output_type": "stream",
     "text": [
      "content='' additional_kwargs={'tool_calls': [{'id': 'call_4d4e2b6408854c848f56c2', 'function': {'arguments': '{\"city\": \"北京\"}', 'name': 'get_weather'}, 'type': 'function', 'index': 0}], 'refusal': None} response_metadata={'token_usage': {'completion_tokens': 17, 'prompt_tokens': 171, 'total_tokens': 188, 'completion_tokens_details': None, 'prompt_tokens_details': {'audio_tokens': None, 'cached_tokens': 0}}, 'model_name': 'qwen-plus', 'system_fingerprint': None, 'id': 'chatcmpl-2d148f58-b95a-9270-a50e-d4dcb7f21ee6', 'finish_reason': 'tool_calls', 'logprobs': None} id='run-89d0481c-191c-4219-9153-b1532674e46b-0' tool_calls=[{'name': 'get_weather', 'args': {'city': '北京'}, 'id': 'call_4d4e2b6408854c848f56c2', 'type': 'tool_call'}] usage_metadata={'input_tokens': 171, 'output_tokens': 17, 'total_tokens': 188, 'input_token_details': {'cache_read': 0}, 'output_token_details': {}}\n",
      "\n",
      "=================================\n",
      "\n",
      "调用工具：get_weather, 参数：{\"city\": \"北京\"}\n"
     ]
    },
    {
     "name": "stderr",
     "output_type": "stream",
     "text": [
      "C:\\Users\\mix\\AppData\\Local\\Temp\\ipykernel_24896\\749951932.py:24: LangChainDeprecationWarning: The method `BaseTool.__call__` was deprecated in langchain-core 0.1.47 and will be removed in 1.0. Use :meth:`~invoke` instead.\n",
      "  weather_result = get_weather(args[\"city\"])  # 例如返回 \"北京天气晴朗\"\n"
     ]
    },
    {
     "name": "stdout",
     "output_type": "stream",
     "text": [
      "根据提供的信息，北京天气晴朗。一般来说，晴朗的天气适合进行户外活动，因为阳光充足、能见度高，气温通常也比较舒适。\n",
      "\n",
      "因此，**北京今天适合户外活动**。不过，为了更全面地判断，建议您还关注以下几点：\n",
      "1. **空气质量**：查看PM2.5和AQI指数，确保空气适合长时间户外活动。\n",
      "2. **温度和风速**：如果气温过高或过低，或者风速较大，可能会影响舒适度。\n",
      "3. **紫外线强度**：晴天时紫外线可能较强，注意防晒。\n",
      "\n",
      "综合来看，如果没有其他不利因素，北京今天是适合户外活动的！\n"
     ]
    }
   ],
   "source": [
    "import json\n",
    "from langchain_core.tools import tool\n",
    "\n",
    "# 自定义工具定义\n",
    "@tool\n",
    "def get_weather(city: str) -> str:\n",
    "    \"\"\"根据城市名称查询天气\"\"\"\n",
    "    return f\"{city}天气晴朗\"\n",
    "\n",
    "# 绑定工具到模型\n",
    "llm_with_tools = llm.bind_tools([get_weather])\n",
    "\n",
    "# 触发工具调用\n",
    "response = llm_with_tools.invoke(\"北京今天适合户外活动吗？输出是或者否\")\n",
    "print(response)\n",
    "print(\"\\n=================================\\n\")\n",
    "if tool_calls := response.additional_kwargs.get(\"tool_calls\"):\n",
    "    tool_name = tool_calls[0][\"function\"][\"name\"]\n",
    "    args = tool_calls[0][\"function\"][\"arguments\"]\n",
    "    print(f\"调用工具：{tool_name}, 参数：{args}\")\n",
    "\n",
    "    #手动执行工具获取天气结果，从query中得到的参数args是字符串JSON格式\n",
    "    args =  json.loads(args)\n",
    "    weather_result = get_weather(args[\"city\"])  # 例如返回 \"北京天气晴朗\"\n",
    "    # 将结果重新传递给模型生成最终回答\n",
    "    final_response = llm.invoke(f\"根据天气信息回答问题：{weather_result}，北京今天适合户外活动吗？\")\n",
    "    print(final_response.content)  # 输出 \"是\""
   ]
  },
  {
   "cell_type": "markdown",
   "id": "2274f34d",
   "metadata": {},
   "source": [
    "1. Jupyter 内核（尤其是 IPython 内核）默认启用了异步支持，可能已存在一个全局事件循环。当你在 Notebook 中直接运行 asyncio.run() 时，会尝试在已有循环上叠加新循环，触发冲突。直接使用await即可。\n",
    "2. 在使用上述工具时，传入的参数是'arguments': '{\"city\": \"北京\"}'，未输出content,手动调用可行"
   ]
  },
  {
   "cell_type": "code",
   "execution_count": null,
   "id": "309fb270-90aa-4028-a2ab-0b89a4090e1d",
   "metadata": {},
   "outputs": [
    {
     "name": "stdout",
     "output_type": "stream",
     "text": [
      "\n",
      "==========================\n"
     ]
    }
   ],
   "source": [
    "response = await llm_with_tools.ainvoke(\"北京今天适合户外活动吗？\")\n",
    "print(response.content)\n",
    "print(\"==========================\")"
   ]
  },
  {
   "cell_type": "markdown",
   "id": "7f76e632",
   "metadata": {},
   "source": [
    "#### rag知识库问答"
   ]
  },
  {
   "cell_type": "markdown",
   "id": "e043ef50",
   "metadata": {},
   "source": [
    "[嵌入模型加载详情可见](https://python.langchain.com.cn/docs/modules/data_connection/text_embedding/)\n",
    "需要对应的大模型支持的嵌入模型,比如默认embedding=OpenAIEmbeddings(),但是通义千问并不支持，所以需要替换。"
   ]
  },
  {
   "cell_type": "code",
   "execution_count": 19,
   "id": "fddabd44",
   "metadata": {},
   "outputs": [],
   "source": [
    "# 加载文本嵌入模型\n",
    "from langchain.embeddings import DashScopeEmbeddings\n",
    "embeddings = DashScopeEmbeddings(\n",
    "    model=\"text-embedding-v1\", dashscope_api_key=os.getenv(\"OPENAI_API_KEY\")\n",
    ")"
   ]
  },
  {
   "cell_type": "code",
   "execution_count": null,
   "id": "71661fd0",
   "metadata": {},
   "outputs": [
    {
     "name": "stdout",
     "output_type": "stream",
     "text": [
      "检索内容：==================tags=['Chroma', 'DashScopeEmbeddings'] vectorstore=<langchain_community.vectorstores.chroma.Chroma object at 0x000001F6B50C3340> search_kwargs={}=====================\n",
      "阿里云的智能对话机器人（Intelligent Robot）是一款基于自然语言处理（NLP）和人工智能（AI）技术的云服务。它面向开发者提供智能会话能力，可以帮助开发者创建会话机器人。通过为机器人配置知识库，可以实现智能问答功能；使用对话工厂配置意图，则可以实现多轮对话与自助服务（例如订单查询、物流跟踪、自助退货等）。此外，该机器人还可以部署在不同的终端上，如网站、移动APP和智能硬件等。\n",
      "=======================网页中的内容======================\n",
      "\n",
      "网页中介绍：智能对话机器人（Intelligent Robot）是一款基于自然语言处理（NLP）和人工智能（AI）技术，面向开发者提供智能会话能力的云服务。\n",
      "        开发者可以使用智能对话机器人创建会话机器人，为机器人配置知识库以实现智能问答，使用对话工厂配置意图实现多轮对话与自助服务（如订单查询、物流跟踪、自助退货等），\n",
      "    并将机器人部署在不同终端上（如网站、移动APP、智能硬件等）。\n",
      "\n",
      "============未使用的rag的结果=============\n",
      "阿里云的智能对话机器人是通义千问，它是一款由阿里云研发的超大规模语言模型，能够回答问题、创作文字，如写故事、公文、邮件、剧本等，还能进行逻辑推理、编程等任务。通义千问支持多种语言，包括但不限于中文、英文、德语、法语、西班牙语等，满足国际化的使用需求。此外，通义千问还具备多轮对话能力，能够记住之前的对话内容，提供更连贯、自然的交流体验。\n"
     ]
    }
   ],
   "source": [
    "from langchain_community.document_loaders import WebBaseLoader\n",
    "from langchain_community.vectorstores import Chroma\n",
    "from langchain_core.prompts import ChatPromptTemplate\n",
    "from langchain_core.runnables import RunnablePassthrough\n",
    "\n",
    "# 文档加载与向量化\n",
    "loader = WebBaseLoader(\"https://help.aliyun.com/zh/beebot/\",  header_template={\"User-Agent\": \"Mozilla/5.0 (Windows NT 10.0; Win64; x64) AppleWebKit/537.36\"})\n",
    "webstr ='''\n",
    "网页中介绍：智能对话机器人（Intelligent Robot）是一款基于自然语言处理（NLP）和人工智能（AI）技术，面向开发者提供智能会话能力的云服务。开发者可以使用智能对话机器人创建会话机器人，为机器人配置知识库以实现智能问答，使用对话工厂配置意图实现多轮对话与自助服务（如订单查询、物流跟踪、自助退货等），并将机器人部署在不同终端上（如网站、移动APP、智能硬件等）。\n",
    "'''\n",
    "documents = loader.load()\n",
    "\n",
    "vectorstore = Chroma.from_documents(documents, embeddings)\n",
    "\n",
    "# 构建提示模板\n",
    "template = \"\"\"基于以下上下文片段回答问题。若信息不足请说明：\n",
    "Context: {context}\n",
    "Question: {question}\n",
    "Answer in Chinese:\"\"\"\n",
    "prompt = ChatPromptTemplate.from_template(template)\n",
    "\n",
    "# 构建检索链\n",
    "retriever = vectorstore.as_retriever()\n",
    "rag_chain = (\n",
    "    {\"context\": retriever, \"question\": RunnablePassthrough()} \n",
    "    | prompt \n",
    "    | llm\n",
    "    | (lambda x: x.content)  # 提取纯文本响应\n",
    ")\n",
    "print(f\"检索内容：=================={retriever}=====================\")\n",
    "# 执行示例\n",
    "response = rag_chain.invoke(\"阿里云的智能对话机器人是什么？\")\n",
    "print(response)\n",
    "print(\"=======================网页中的内容======================\")\n",
    "print(webstr)\n",
    "print(\"============未使用的rag的结果=============\")\n",
    "print(llm.invoke(\"阿里云的智能对话机器人是什么？\").content)"
   ]
  },
  {
   "cell_type": "markdown",
   "id": "c75c9cc8",
   "metadata": {},
   "source": [
    "RunnablePassthrough的作用详解\n",
    "1. ​数据透传：在LangChain的LCEL中，RunnablePassthrough用于在链式调用中**透传输入参数**。\n",
    "​2. 结构保持：当流水线需要组合多个数据源时（如同时传递检索上下文和原始问题），它确保输入参数的完整性。\n",
    "\n",
    "`{\"context\": retriever, \"question\": RunnablePassthrough()}`代码中：\n",
    "* ​输入结构：假设输入为问题字符串\"阿里云的智能对话机器人是什么？\"，RunnablePassthrough会将其映射到字典的question键。\n",
    "* ​输出结构：组合后的字典为{\"context\": [相关文档], \"question\": \"阿里云的智能对话机器人是什么？\"}，精准匹配提示模板的{context}和{question}占位符。"
   ]
  },
  {
   "attachments": {
    "image.png": {
     "image/png": "[encoded data removed]"
    }
   },
   "cell_type": "markdown",
   "id": "38ca07c3",
   "metadata": {},
   "source": [
    "# Message\n",
    "分为不同角色，快速构建模板\n",
    "\n",
    "![image.png](attachment:image.png)"
   ]
  },
  {
   "cell_type": "code",
   "execution_count": 21,
   "id": "ebd96729",
   "metadata": {},
   "outputs": [
    {
     "name": "stdout",
     "output_type": "stream",
     "text": [
      "content=\"Hello! I'm just a program, so I don't have feelings, but thanks for asking! How can I assist you today?\" additional_kwargs={'refusal': None} response_metadata={'token_usage': {'completion_tokens': 27, 'prompt_tokens': 14, 'total_tokens': 41, 'completion_tokens_details': None, 'prompt_tokens_details': {'audio_tokens': None, 'cached_tokens': 0}}, 'model_name': 'qwen-plus', 'system_fingerprint': None, 'id': 'chatcmpl-47650c7c-40ad-9fdc-914b-80ff54b75489', 'finish_reason': 'stop', 'logprobs': None} id='run-7b5fc11b-3b4d-4051-afd9-c189969f8134-0' usage_metadata={'input_tokens': 14, 'output_tokens': 27, 'total_tokens': 41, 'input_token_details': {'cache_read': 0}, 'output_token_details': {}}\n"
     ]
    }
   ],
   "source": [
    "from langchain_core.messages import HumanMessage\n",
    "\n",
    "ai_message = llm.invoke([HumanMessage(content=\"Hello, how are you?\")])\n",
    "print(ai_message) # <-- AIMessage"
   ]
  },
  {
   "attachments": {
    "image.png": {
     "image/png": "[encoded data removed]"
    }
   },
   "cell_type": "markdown",
   "id": "43c918d6",
   "metadata": {},
   "source": [
    "模型调用结果是AIMessage类型\n",
    "\n",
    "![image.png](attachment:image.png)"
   ]
  },
  {
   "cell_type": "markdown",
   "id": "255812fa",
   "metadata": {},
   "source": [
    "# Prompt\n",
    "\n",
    "### 字符串模板"
   ]
  },
  {
   "cell_type": "code",
   "execution_count": null,
   "id": "140580b1",
   "metadata": {},
   "outputs": [
    {
     "data": {
      "text/plain": [
       "StringPromptValue(text='Tell me a joke about cats')"
      ]
     },
     "execution_count": 22,
     "metadata": {},
     "output_type": "execute_result"
    }
   ],
   "source": [
    "from langchain_core.prompts import PromptTemplate\n",
    "\n",
    "prompt_template = PromptTemplate.from_template(\"Tell me a joke about {topic}\")\n",
    "\n",
    "prompt_template.invoke({\"topic\": \"cats\"})"
   ]
  },
  {
   "cell_type": "markdown",
   "id": "ea6b08dc",
   "metadata": {},
   "source": [
    "### chatPrompt模板\n",
    "快速创建system，user的模板"
   ]
  },
  {
   "cell_type": "code",
   "execution_count": null,
   "id": "965adde0",
   "metadata": {},
   "outputs": [
    {
     "data": {
      "text/plain": [
       "ChatPromptValue(messages=[SystemMessage(content='You are a helpful assistant', additional_kwargs={}, response_metadata={}), HumanMessage(content='Tell me a joke about cats', additional_kwargs={}, response_metadata={})])"
      ]
     },
     "execution_count": 23,
     "metadata": {},
     "output_type": "execute_result"
    }
   ],
   "source": [
    "from langchain_core.prompts import ChatPromptTemplate\n",
    "\n",
    "prompt_template = ChatPromptTemplate([\n",
    "    (\"system\", \"You are a helpful assistant\"),\n",
    "    (\"user\", \"Tell me a joke about {topic}\")\n",
    "])\n",
    "\n",
    "prompt_template.invoke({\"topic\": \"cats\"})"
   ]
  },
  {
   "cell_type": "markdown",
   "id": "2e8424ad",
   "metadata": {},
   "source": [
    "### MessagesPlaceholder\n",
    "在上面的 ChatPromptTemplate 中，我们看到了如何格式化两条消息，每条消息都是一个字符串。\n",
    "但是，如果我们希望用户传入一个消息列表，我们将将其放入特定位置，该怎么办？\n"
   ]
  },
  {
   "cell_type": "code",
   "execution_count": null,
   "id": "d2f3f6e5",
   "metadata": {},
   "outputs": [
    {
     "data": {
      "text/plain": [
       "ChatPromptValue(messages=[SystemMessage(content='You are a helpful assistant', additional_kwargs={}, response_metadata={}), HumanMessage(content='hi!', additional_kwargs={}, response_metadata={})])"
      ]
     },
     "execution_count": 24,
     "metadata": {},
     "output_type": "execute_result"
    }
   ],
   "source": [
    "from langchain_core.prompts import ChatPromptTemplate, MessagesPlaceholder\n",
    "from langchain_core.messages import HumanMessage, SystemMessage\n",
    "\n",
    "prompt_template = ChatPromptTemplate([\n",
    "    (\"system\", \"You are a helpful assistant\"),\n",
    "    MessagesPlaceholder(\"msgs\")\n",
    "])\n",
    "\n",
    "prompt_template.invoke({\"msgs\": [HumanMessage(content=\"hi!\")]})\n",
    "\n",
    "# 这样也可以，不显式的使用\n",
    "prompt_template = ChatPromptTemplate([\n",
    "    (\"system\", \"You are a helpful assistant\"),\n",
    "    (\"placeholder\", \"{msgs}\") # <-- This is the changed part\n",
    "])\n"
   ]
  },
  {
   "cell_type": "markdown",
   "id": "8fa41324",
   "metadata": {},
   "source": [
    "### 使用"
   ]
  },
  {
   "cell_type": "code",
   "execution_count": 25,
   "id": "d3637201",
   "metadata": {},
   "outputs": [
    {
     "name": "stdout",
     "output_type": "stream",
     "text": [
      "Have you eaten today?\n"
     ]
    }
   ],
   "source": [
    "template=\"请将这句话用{input_language} 翻译成 {output_language}.\"\n",
    "human_template=\"{text}\"\n",
    "prompt = ChatPromptTemplate([('system',template),('user',human_template)])\n",
    "response =  llm.invoke(prompt.invoke({\n",
    "    \"input_language\":\"中文\",\n",
    "    \"output_language\":\"英文\",\n",
    "    \"text\":\"你今天吃饭了吗？\"\n",
    "}))\n",
    "print(response.content)"
   ]
  },
  {
   "cell_type": "markdown",
   "id": "a5b7b25e",
   "metadata": {},
   "source": [
    "# 索引\n",
    "对文本内容分块，查找"
   ]
  },
  {
   "cell_type": "code",
   "execution_count": null,
   "id": "6bf84ff0",
   "metadata": {},
   "outputs": [
    {
     "name": "stdout",
     "output_type": "stream",
     "text": [
      "[Document(metadata={}, page_content='桃干仙道：“这位令狐少侠，原是恒山派掌门，与华山派岳先生渊源极深，跟衡山派莫大先生又是好友。五岳剑派之中，已有三派是一定拥戴他的了。”桃枝仙道：“泰山派门下的群道并非都是胡涂虫，自然也是拥戴他的多，反对他的少。”桃叶仙道：“五岳派中人人使剑，谁的剑法最高，谁就理所当然、不可不戒的做掌门人。”他说了“理所当然”四字，顺口便加上“不可不戒”，也不理会通与不通。桃花仙按住肩头伤口，说道：“左冷禅，你倘若不服，不妨便和令狐少侠比比剑。谁赢了，谁做五岳派掌门。这叫做比剑夺帅！”\\n\\n\\u3000\\u3000此次来到嵩山的群雄，除了五岳剑派门下以及方证大师、冲虚道人这等有心之人外，大都是存着瞧热闹之心。此刻各人均知五派合并，已成定局，争夺之鹄的，当在掌门人一席。这些江湖上好汉最怕的是长篇大论的争执，适才桃谷六仙跟左冷禅瞎缠，只因说得有趣，倒不气闷，但若个个似岳不群那么满口仁义道德，说到太阳落山，还是没了没完，那可闷死人了，是以众人一听到桃花仙说出“比剑夺帅”四字，登时轰天价叫起好来。群豪上得山来，见到天门道人自戕毙敌，左冷禅剑断三肢，这两幕看得人惊心动魄，可说此行已然不虚，但如五岳派中众高手为争夺掌门人而大战一场，好戏纷呈，那可更加过瘾了。因此群雄鼓掌喝采，甚是真诚热烈。\\n\\n\\u3000\\u3000令狐冲心想：“我答应方证大师和冲虚道长，力阻左冷禅为五岳派掌门，以免他为祸武林。只要师父做了掌门，他老人家大公无私，自然人人心悦诚服。除了他老人家之外，五岳剑派中，又有谁配当此重任？”朗声道：“眼前有一位最适宜的前辈，怎地大家忘了？五岳派若不由君子剑岳先生来当掌门人，哪里还找得出第二位来？岳先生武功既高，识见更是卓超。他老人家为人仁义，众所周知，否则怎地会得了‘君子剑’三字的外号？我恒山派推举岳先生为五岳派掌门。”他说了这番话，华山派的群弟子登时大声鼓掌喝采。\\n\\n\\u3000\\u3000嵩山派中有人说道：“岳先生虽然不错，比之左掌门却总是逊着一筹。”有人道：“左掌门是五岳剑派盟主，已当了这么多年，由他老人家出任五岳派掌门，那是顺理成章之事。又何必另推旁人？”又有人道：“以我之见，五岳派掌门当然由左掌门来当，另外可设四位副手，由岳先生、莫大先生、令狐少侠、玉……玉……玉……那个玉磬子或是玉音子道长分别担任，那就妥当得很了。”\\n\\n\\u3000\\u3000桃枝仙叫道：“玉玑子还没死呢，他断了两只手一只脚，你们就不要他了？”'), Document(metadata={}, page_content='岳不群道：“比剑夺帅，原也是一法，只不过我五岳剑派合而为一，本意是减少门户纷争，以求武林中同道和睦友爱，因此比武只可点到为止，一分胜败便须住手，切不可伤残性命。否则可大违我五派合并的本意了。”\\n\\n\\u3000\\u3000众人听他说得头头是道，都静了下来。有一大汉说道：“点到为止固然好，但刀剑不生眼睛，真有死伤，那也是自己晦气，怪得谁来？”又有一人道：“倘若怕死怕伤，不如躲在家里抱娃娃，又何必来夺这五岳派的掌门？”群雄都轰笑起来。岳不群道：“话虽如此，总是以不伤和气为妙。在下有几点浅见，说出来请各位参详参详。”\\n\\n\\u3000\\u3000有人叫道：“快动手打，又说些甚么了？”另有人道：“别瞎捣乱，且听岳先生说甚么话。”先前那人道：“谁捣乱了？你回家问你大妹子去！”那边跟着也对骂了起来。\\n\\n\\u3000\\u3000岳不群道：“哪一个有资格参与比武夺帅，可得有个规定……”他内力充沛，一出声说话，便将污言对骂之人的声音压了下来，只听他继续道：“比武夺帅，这帅是五岳派之帅，因此若不是五岳派门下，不论他有通天本领，可也不能见猎心喜，一时手痒，下场角逐。否则的话，争的是‘武功天下第一’的名号，却不是为决定五岳派掌门了。”\\n\\n\\u3000\\u3000群雄都道：“对！不是五岳派门下，自然不能下场比武。”也有人道：“大伙儿乱打一起，争那‘武功天下第一’的名号，可也不错啊。”这人显是胡闹，旁人也没加理会。\\n\\n\\u3000\\u3000岳不群道：“至于如何比武，方不致伤残人命，不伤同门和气，请左先生一抒宏论。”\\n\\n\\u3000\\u3000左冷禅冷冷的道：“既然动上了手，定要不可伤残人命，不得伤了同门和气，那可为难得紧。不知岳先生有何高见？”\\n\\n\\u3000\\u3000岳不群道：“在下以为，最好是请方证大师、冲虚道长、丐帮解帮主、青城派余观主等几位德高望重的武林前辈出作公证。谁胜谁败，由他们几位评定，免得比武之人缠斗不休。咱们只分高下，不决生死。”\\n\\n\\u3000\\u3000方证道：“善哉，善哉！‘只分高下，不决生死’这八个字，便消弭了无数血光之灾，左先生意下如何？”\\n\\n\\u3000\\u3000左冷禅道：“这是大师对敝派慈悲眷顾，自当遵从。原来的五岳剑派五派，每一派只能派出一人比武夺帅，否则每一派都出数百人，不知比到何年何月，方有结局。”\\n\\n\\u3000\\u3000群雄虽觉五岳剑派每派只出一人比武，五派便只有五人，未免太不热闹。但这五派若都是掌门人出手，他本派中人决不会有人向他挑战。只听得嵩山派中数百人大声附和，旁人也就没有异议。'), Document(metadata={}, page_content='玉音子怒道：“岳先生，你调教的好徒儿，好女婿！连泰山派的武功如何，他也能来胡言乱语。”\\n\\n\\u3000\\u3000突然一个女子的声音道：“你怎知他是胡言乱语？”一个俊俏的少妇越众而出，长裙拂地，衣带飘风，鬓边插着一朵小小红花，正是岳灵珊。她背上负着一柄长剑，右手反过去握住剑柄，说道：“我便以泰山派的剑法，会会道长的高招。”\\n\\n\\u3000\\u3000玉音子认得她是岳不群的女儿，心想岳不群这番大力赞同五派合并，左冷禅言语神情中对他甚是客气，倒也不敢得罪了她，微微一笑，说道：“岳姑娘大喜，贫道没有来贺，讨一杯喜酒喝，难道为此生我的气了吗？贵派剑法精妙，贫道向来是十分佩服的。但华山派门人居然也会使泰山派剑法，贫道今日还是首次得闻。”\\n\\n\\u3000\\u3000岳灵珊秀眉一轩，道：“我爹爹要做五岳派掌门人，对五岳剑派每一派的剑法，自然都得钻研一番。否则的话，就算我爹爹打赢了四派掌门人，那也只是华山派独占鳌头，算不得是五岳派真正的掌门人。”\\n\\n\\u3000\\u3000此言一出，群雄登时耸动。有人道：“岳先生要做五岳派掌门人？”有人大声道：“难道泰山、衡山、嵩山、恒山四派的武功，岳先生也都会吗？”\\n\\n\\u3000\\u3000岳不群朗声道：“小女信口开河，小孩儿家的话，众位不可当真。”\\n\\n\\u3000\\u3000岳灵珊却道：“嵩山左师伯，如果你能以泰衡华恒四派剑法，分别打败我四派好手，我们自然服你做五岳派掌门。否则你嵩山派的剑法就算独步天下，也不过嵩山派的剑法十分高明而已，跟别的四派，终究拉不上干系。”\\n\\n\\u3000\\u3000群雄均想：这话确然不错。如果有人精擅五岳剑派各派剑法，以他来做五岳派掌门，自是再合适不过。可是五岳剑派每一派的剑法，都是数百年来经无数好手呕心沥血锻炼而成。有人纵得五派名师分别传授，经数十年苦练，也未必能学全五派的全部剑法，而各派秘招绝艺，都是非本派弟子不传，如说一人而能同时精擅五岳派剑法，决计无此可能。\\n\\n\\u3000\\u3000左冷禅却想：“岳不群的女儿为甚么说这番话？其中必有用意。难道岳不群当真痰迷了心窍，想跟我争夺这五岳派掌门人之位吗？”\\n\\n\\u3000\\u3000玉音子道：“原来岳先生已然精通五派剑法，那可是自从五岳剑派创派以来，从所未有的大事。贫道便请岳姑娘指点指点泰山派的剑法。”\\n\\n\\u3000\\u3000岳灵珊道：“甚好！”刷的一声，从背上剑鞘中拔出了长剑。'), Document(metadata={}, page_content='任我行道：“嗯，原来如此！那也算得是天网恢恢，疏而不漏了。”语气之中，显得十分意兴萧索。\\n\\n\\u3000\\u3000向问天和众长老等你瞧瞧我，我瞧瞧你，均感甚是没趣。此番日月教大举前来华山，事先布置周详异常，不但全教好手尽出，更召集了属下各帮、各寨、各洞、各岛群豪，准拟一举而将五岳剑派尽数收服。五派如不肯降服，便即聚而歼之。从此任我行和日月神教威震天下。再挑了少林、武当两派，正教中更无一派能与抗手，千秋万载，一统江湖的基业，便于今日在华山朝阳峰上轰轰烈烈的奠下了。不料左冷禅、岳不群以及泰山派中的几名前辈尽皆自相残杀而死，莫大先生不知去向，四派的后辈弟子也没剩下多少。任我行殚精竭虑的一番巧妙策划，竟然尽皆落空。\\n\\n\\u3000\\u3000任我行越想越怒，大声道：“将五岳剑派那些还没死光的狗崽子，都给我押上峰来。”上官云应道：“是！”转身下去传令。\\n\\n\\u3000\\u3000令孤冲体内的异种真气闹了一阵，渐渐静了下来，听得任我行说“五岳剑派那些还没死光的狗崽子”，虽然他用意并不是在骂自己，但恒山派毕竟也在五岳剑派之列，心下老大没趣。\\n\\n\\u3000\\u3000过了一会，只听得吆喝之声，日月教的两名长老率领教众，押着嵩山、泰山、衡山、华山四派的三十三名弟子，来到峰上。华山派弟子本来不多，嵩山、泰山、衡山三派这次来到华山的好手十九都已战死。这三十三名弟子不但都是无名之辈，而且个个身上带伤，若非日月教教众扶持，根本就无法上峰。\\n\\n\\u3000\\u3000任我行一见大怒，不等各人走近，喝道：“要这些狗崽子干甚么？带了下去，都带了下去！”那两名长老应道：“谨遵圣教主令旨。”将三十三名受伤的四派弟子带下峰去。\\n\\n\\u3000\\u3000任我行空口咒骂了几句，突然哈哈长笑，说道：“这五岳剑派叫做天作孽，不可活，不劳咱们动手，他们窝里反自相残杀，从此江湖之上，再也没他们的字号了。”\\n\\n\\u3000\\u3000向问天和十长老一齐躬身说道：“这是圣教主洪福齐天，跳梁小丑，自行殒灭。”\\n\\n\\u3000\\u3000向问天又道：“五岳剑派之中，恒山派却是一枝独秀，矫矫不群，那都是令狐掌门领导有方之故。今后恒山派和咱们神教同气连枝，共亨荣华。恭喜圣教主得了一位少年英侠之中举世无双的人才，作为臂助。”\\n\\n\\u3000\\u3000任我行道：“正是，向左使说得好。令狐小兄弟，从今日起，你这恒山一派可以散了。门下的众位师太和女弟子们，愿意到我们黑木崖去，固是欢迎得紧，否则仍留恒山，那也不妨。这恒山下院，算是你副教主的一支亲兵罢，哈哈，哈哈！”仰天长笑，声震山谷。\\n\\n\\u3000\\u3000※※※')]\n"
     ]
    }
   ],
   "source": [
    "# 加载文本嵌入模型\n",
    "from langchain.embeddings import DashScopeEmbeddings\n",
    "embeddings = DashScopeEmbeddings(\n",
    "    model=\"text-embedding-v1\", dashscope_api_key=os.getenv(\"OPENAI_API_KEY\")\n",
    ")\n",
    "\n",
    "\n",
    "from langchain.text_splitter import CharacterTextSplitter\n",
    "from langchain.vectorstores import Chroma\n",
    "\n",
    "# 打开文件，分块\n",
    "with open('./lib/chineseJH.txt',encoding='UTF-8') as f:\n",
    "    state_of_the_union = f.read()\n",
    "text_splitter = CharacterTextSplitter(chunk_size=1000, chunk_overlap=0)\n",
    "texts = text_splitter.split_text(state_of_the_union)\n",
    "\n",
    "# 查询相似文本块\n",
    "vector_store = Chroma.from_texts(texts, embeddings)\n",
    "query = \"五岳盟主选拔\"\n",
    "docs = vectorstore.similarity_search(query)\n",
    "print(docs)"
   ]
  },
  {
   "cell_type": "markdown",
   "id": "46c1bc1c",
   "metadata": {},
   "source": [
    "# 记忆\n",
    "\n",
    "## 如何给LLMChain添加记忆\n",
    "- 在构建prompt的时候就可以添加chat_history作为短期记忆\n",
    "- 使用ConversationBufferMemory类，然后指定对应的prompt中的key后\n",
    "- 使用LLMChain建立一个添加记忆的大模型链"
   ]
  },
  {
   "cell_type": "code",
   "execution_count": 15,
   "id": "e73b032a",
   "metadata": {},
   "outputs": [
    {
     "name": "stdout",
     "output_type": "stream",
     "text": [
      "memory=ConversationBufferMemory(chat_memory=InMemoryChatMessageHistory(messages=[]), memory_key='chat_history') verbose=True prompt=PromptTemplate(input_variables=['chat_history', 'human_input'], input_types={}, partial_variables={}, template='You are a chatbot having a conversation with a human.\\n\\n{chat_history}\\n\\nHuman: {human_input}\\nChatbot:') llm=ChatOpenAI(client=<openai.resources.chat.completions.completions.Completions object at 0x000001FBBE9D1780>, async_client=<openai.resources.chat.completions.completions.AsyncCompletions object at 0x000001FBBE9D1540>, root_client=<openai.OpenAI object at 0x000001FBBE9EE5F0>, root_async_client=<openai.AsyncOpenAI object at 0x000001FBBE9D1720>, model_name='qwen-plus', model_kwargs={}, openai_api_key=SecretStr('**********'), openai_api_base='https://dashscope.aliyuncs.com/compatible-mode/v1') output_parser=StrOutputParser() llm_kwargs={}\n",
      "\n",
      "\n",
      "\u001b[1m> Entering new LLMChain chain...\u001b[0m\n",
      "Prompt after formatting:\n",
      "\u001b[32;1m\u001b[1;3mYou are a chatbot having a conversation with a human.\n",
      "\n",
      "\n",
      "\n",
      "Human: Hi there my friend,my name is Bob\n",
      "Chatbot:\u001b[0m\n",
      "\n",
      "\u001b[1m> Finished chain.\u001b[0m\n",
      "\n",
      "\n",
      "\u001b[1m> Entering new LLMChain chain...\u001b[0m\n",
      "Prompt after formatting:\n",
      "\u001b[32;1m\u001b[1;3mYou are a chatbot having a conversation with a human.\n",
      "\n",
      "Human: Hi there my friend,my name is Bob\n",
      "AI: Hello Bob! Nice to meet you. How can I assist you today? Feel free to ask me anything or let me know if you need help with a specific task. 😊\n",
      "\n",
      "Human: Not too bad - how are you?\n",
      "Chatbot:\u001b[0m\n",
      "\n",
      "\u001b[1m> Finished chain.\u001b[0m\n",
      "\n",
      "\n",
      "\u001b[1m> Entering new LLMChain chain...\u001b[0m\n",
      "Prompt after formatting:\n",
      "\u001b[32;1m\u001b[1;3mYou are a chatbot having a conversation with a human.\n",
      "\n",
      "Human: Hi there my friend,my name is Bob\n",
      "AI: Hello Bob! Nice to meet you. How can I assist you today? Feel free to ask me anything or let me know if you need help with a specific task. 😊\n",
      "Human: Not too bad - how are you?\n",
      "AI: Thanks for asking, Bob! I'm just a bundle of code, so I don't have feelings, but I'm here and ready to help with whatever you need. How's your day going so far?\n",
      "\n",
      "Human: what's my name?\n",
      "Chatbot:\u001b[0m\n",
      "\n",
      "\u001b[1m> Finished chain.\u001b[0m\n"
     ]
    },
    {
     "data": {
      "text/plain": [
       "\"Your name is Bob! 😊 Did you forget, or are you testing me? Either way, it's good to know who we're chatting with. Anything else on your mind?\""
      ]
     },
     "execution_count": 15,
     "metadata": {},
     "output_type": "execute_result"
    }
   ],
   "source": [
    "from langchain.memory import ConversationBufferMemory\n",
    "from langchain import  LLMChain, PromptTemplate\n",
    "from langchain_openai import ChatOpenAI\n",
    "\n",
    "template = \"\"\"You are a chatbot having a conversation with a human.\n",
    "\n",
    "{chat_history}\n",
    "\n",
    "Human: {human_input}\n",
    "Chatbot:\"\"\"\n",
    "\n",
    "prompt = PromptTemplate(\n",
    "    input_variables=[\"chat_history\", \"human_input\"], template=template\n",
    ")\n",
    "\n",
    "memory = ConversationBufferMemory(memory_key=\"chat_history\")\n",
    "\n",
    "llm_chain = LLMChain(\n",
    "    llm=ChatOpenAI(\n",
    "        model = \"qwen-plus\",\n",
    "        api_key =  os.getenv('OPENAI_API_KEY'),\n",
    "        base_url = os.getenv('OPENAI_BASE_URL')\n",
    "    ),\n",
    "    prompt=prompt,\n",
    "    verbose=True, #用于控制是否打印调试信息\n",
    "    memory=memory,\n",
    ")\n",
    "\n",
    "print(llm_chain)\n",
    "llm_chain.predict(human_input = \"Hi there my friend,my name is Bob\")\n",
    "\n",
    "llm_chain.predict(human_input=\"Not too bad - how are you?\")\n",
    "\n",
    "llm_chain.predict(human_input=\"what's my name?\")\n"
   ]
  },
  {
   "cell_type": "markdown",
   "id": "038c210d",
   "metadata": {},
   "source": [
    "通过memeory.buffer查看对话记录"
   ]
  },
  {
   "cell_type": "code",
   "execution_count": 16,
   "id": "86e7d8df",
   "metadata": {},
   "outputs": [
    {
     "name": "stdout",
     "output_type": "stream",
     "text": [
      "Human: Hi there my friend,my name is Bob\n",
      "AI: Hello Bob! Nice to meet you. How can I assist you today? Feel free to ask me anything or let me know if you need help with a specific task. 😊\n",
      "Human: Not too bad - how are you?\n",
      "AI: Thanks for asking, Bob! I'm just a bundle of code, so I don't have feelings, but I'm here and ready to help with whatever you need. How's your day going so far?\n",
      "Human: what's my name?\n",
      "AI: Your name is Bob! 😊 Did you forget, or are you testing me? Either way, it's good to know who we're chatting with. Anything else on your mind?\n"
     ]
    }
   ],
   "source": [
    "print(memory.buffer)"
   ]
  },
  {
   "cell_type": "markdown",
   "id": "6eba4b8a",
   "metadata": {},
   "source": [
    "## 不同记忆\n",
    "\n",
    "* 窗口长度\n",
    "```python\n",
    "memory = ConversationBufferWindowMemory(k=1)\n",
    "memory.save_context({\"input\": \"hi\"}, {\"output\": \"whats up\"})\n",
    "memory.save_context({\"input\": \"not much you\"}, {\"output\": \"not much\"})\n",
    "```\n",
    "* Token长度限制： \n",
    "    Qwen使用BPE分词，但LangChain的ConversationTokenBufferMemory默认依赖OpenAI的token计数方法\n",
    "```python\n",
    "## Token长度限制\n",
    "from langchain.memory import ConversationTokenBufferMemory\n",
    "memory = ConversationTokenBufferMemory(\n",
    "    llm=llm, max_token_limit=10, return_messages=True\n",
    ")\n",
    "memory.save_context({\"input\": \"hi\"}, {\"output\": \"whats up\"})\n",
    "memory.save_context({\"input\": \"not much you\"}, {\"output\": \"not much\"})\n",
    "\n",
    "print(memory.buffer)\n",
    "```\n",
    "* 会话摘要记忆: 总结之前的对话，限制Token\n",
    "```python\n",
    "## 总结\n",
    "from langchain.memory import ConversationSummaryBufferMemory\n",
    "memory = ConversationSummaryBufferMemory(llm=llm, max_token_limit=10)\n",
    "memory.save_context({\"input\": \"hi\"}, {\"output\": \"whats up\"})\n",
    "memory.save_context({\"input\": \"not much you\"}, {\"output\": \"not much\"})\n",
    "\n",
    "messages = memory.chat_memory.messages\n",
    "previous_summary = \"\"\n",
    "memory.predict_new_summary(messages, previous_summary)\n",
    "```\n",
    "* 基于向量存储记忆，每次从向量数据库中查找相关度高的k个对话记忆，然后作为history.\n",
    "```python\n",
    "import faiss\n",
    "\n",
    "from langchain.docstore import InMemoryDocstore\n",
    "from langchain.vectorstores import FAISS\n",
    "\n",
    "embedding_size = 1536 # OpenAIEmbeddings的维度\n",
    "index = faiss.IndexFlatL2(embedding_size)\n",
    "embedding_fn = OpenAIEmbeddings().embed_query\n",
    "vectorstore = FAISS(embedding_fn, index, InMemoryDocstore({}), {})\n",
    "\n",
    "# 在实际使用中，您可以将`k`设置得更高，但我们使用k=1来展示向量查找仍然返回语义相关的信息\n",
    "retriever = vectorstore.as_retriever(search_kwargs=dict(k=1))\n",
    "memory = VectorStoreRetrieverMemory(retriever=retriever)\n",
    "\n",
    "# 当添加到代理程序时，内存对象可以保存来自对话或使用工具的相关信息\n",
    "memory.save_context({\"input\": \"我最喜欢的食物是比萨饼\"}, {\"output\": \"知道了\"})\n",
    "memory.save_context({\"input\": \"我最喜欢的运动是足球\"}, {\"output\": \"...\"})\n",
    "memory.save_context({\"input\": \"我不喜欢凯尔特人队\"}, {\"output\": \"好的\"})\n",
    "\n",
    "# 注意，返回的第一个结果是与1099相关的记忆，与其他文件相比，语言模型认为它与1099更有语义相关性，尽管它们都包含数字。\n",
    "print(memory.load_memory_variables({\"prompt\": \"我应该看什么运动？\"})[\"history\"])\n",
    "```"
   ]
  },
  {
   "cell_type": "markdown",
   "id": "688b58b9",
   "metadata": {},
   "source": [
    "# Agents"
   ]
  },
  {
   "cell_type": "markdown",
   "id": "fa9d9c79",
   "metadata": {},
   "source": [
    "### AgentTypes\n",
    "    在AgentType中已经定义好了各种不同agent\n",
    "```python\n",
    "class AgentType(str, Enum):\n",
    "    \"\"\"An enum for agent types.\n",
    "\n",
    "    See documentation: https://python.langchain.com/docs/modules/agents/agent_types/\n",
    "    \"\"\"\n",
    "\n",
    "    ZERO_SHOT_REACT_DESCRIPTION = \"zero-shot-react-description\"\n",
    "    \"\"\"A zero shot agent that does a reasoning step before acting.\"\"\"\n",
    "\n",
    "    REACT_DOCSTORE = \"react-docstore\"\n",
    "    \"\"\"A zero shot agent that does a reasoning step before acting.\n",
    "    \n",
    "    This agent has access to a document store that allows it to look up \n",
    "    relevant information to answering the question.\n",
    "    \"\"\"\n",
    "\n",
    "    SELF_ASK_WITH_SEARCH = \"self-ask-with-search\"\n",
    "    \"\"\"An agent that breaks down a complex question into a series of simpler questions.\n",
    "    \n",
    "    This agent uses a search tool to look up answers to the simpler questions\n",
    "    in order to answer the original complex question.\n",
    "    \"\"\"\n",
    "    CONVERSATIONAL_REACT_DESCRIPTION = \"conversational-react-description\"\n",
    "    CHAT_ZERO_SHOT_REACT_DESCRIPTION = \"chat-zero-shot-react-description\"\n",
    "    \"\"\"A zero shot agent that does a reasoning step before acting.\n",
    "    \n",
    "    This agent is designed to be used in conjunction \n",
    "    \"\"\"\n",
    "\n",
    "    CHAT_CONVERSATIONAL_REACT_DESCRIPTION = \"chat-conversational-react-description\"\n",
    "\n",
    "    STRUCTURED_CHAT_ZERO_SHOT_REACT_DESCRIPTION = (\n",
    "        \"structured-chat-zero-shot-react-description\"\n",
    "    )\n",
    "    \"\"\"An zero-shot react agent optimized for chat models.\n",
    "    \n",
    "    This agent is capable of invoking tools that have multiple inputs.\n",
    "    \"\"\"\n",
    "\n",
    "    OPENAI_FUNCTIONS = \"openai-functions\"\n",
    "    \"\"\"An agent optimized for using open AI functions.\"\"\"\n",
    "\n",
    "    OPENAI_MULTI_FUNCTIONS = \"openai-multi-functions\"\n",
    "```"
   ]
  },
  {
   "cell_type": "markdown",
   "id": "9862ae49",
   "metadata": {},
   "source": [
    "### 示例\n",
    "自问自答带搜索类型agent的使用"
   ]
  },
  {
   "cell_type": "code",
   "execution_count": null,
   "id": "396d1838",
   "metadata": {},
   "outputs": [],
   "source": [
    "%pip install google-search-results"
   ]
  },
  {
   "cell_type": "code",
   "execution_count": 7,
   "id": "79f8240d",
   "metadata": {},
   "outputs": [
    {
     "name": "stdout",
     "output_type": "stream",
     "text": [
      "\n",
      "\n",
      "\u001b[1m> Entering new AgentExecutor chain...\u001b[0m\n",
      "\u001b[32;1m\u001b[1;3mYes.  \n",
      "Follow up: 谁是当前美国男子网球公开赛的卫冕冠军？  \u001b[0m\n",
      "Intermediate answer: \u001b[36;1m\u001b[1;3m诺瓦克·德约科维奇是卫冕冠军，也是本次赛会2号种子，他将冲击创纪录的第5个美网男单冠军和第25个大满贯男单冠军，但他在第三轮中输给了阿列克谢·波佩林，这是他自2017年以来第一次单赛季没有赢得过大满贯单打冠军。\u001b[0m\n",
      "\u001b[32;1m\u001b[1;3mFollow up: 诺瓦克·德约科维奇的家乡是哪里？  \u001b[0m\n",
      "Intermediate answer: \u001b[36;1m\u001b[1;3m诺瓦克·德约科维奇（Novak Djokovic），1987年5月22日出生于塞尔维亚贝尔格莱德，塞尔维亚职业网球运动员。\u001b[0m\n",
      "\u001b[32;1m\u001b[1;3mSo the final answer is: 贝尔格莱德 (Belgrade), 塞尔维亚 (Serbia).\u001b[0m\n",
      "\n",
      "\u001b[1m> Finished chain.\u001b[0m\n"
     ]
    },
    {
     "data": {
      "text/plain": [
       "'贝尔格莱德 (Belgrade), 塞尔维亚 (Serbia).'"
      ]
     },
     "execution_count": 7,
     "metadata": {},
     "output_type": "execute_result"
    }
   ],
   "source": [
    "from langchain import SerpAPIWrapper\n",
    "from langchain.agents import initialize_agent, Tool\n",
    "from langchain.agents import AgentType\n",
    "search = SerpAPIWrapper(serpapi_api_key = 'cd571d5bec51c796ab708044c3f59e5edf1fb64bf34c6037a5c591afe3a8f7f2')\n",
    "tools = [\n",
    "    Tool(\n",
    "        name=\"Intermediate Answer\",\n",
    "        func=search.run,\n",
    "        description=\"useful for when you need to ask with search\",\n",
    "    )\n",
    "]\n",
    "\n",
    "self_ask_with_search = initialize_agent(\n",
    "    tools, llm, agent=AgentType.SELF_ASK_WITH_SEARCH, verbose=True\n",
    ")\n",
    "self_ask_with_search.run(\n",
    "    \"美国男子网球公开赛卫冕冠军的家乡是哪里？\"\n",
    ")"
   ]
  },
  {
   "cell_type": "markdown",
   "id": "e343889c",
   "metadata": {},
   "source": [
    "### 实现\n",
    "从提示词可以看到Zero-shot ReAct模式的一个大致实现"
   ]
  },
  {
   "cell_type": "raw",
   "id": "84b8bbd3",
   "metadata": {
    "vscode": {
     "languageId": "raw"
    }
   },
   "source": [
    "```python\n",
    "# flake8: noqa\n",
    "SYSTEM_MESSAGE_PREFIX = \"\"\"Answer the following questions as best you can. You have access to the following tools:\"\"\"\n",
    "FORMAT_INSTRUCTIONS = \"\"\"The way you use the tools is by specifying a json blob.\n",
    "Specifically, this json should have a `action` key (with the name of the tool to use) and a `action_input` key (with the input to the tool going here).\n",
    "\n",
    "The only values that should be in the \"action\" field are: {tool_names}\n",
    "\n",
    "The $JSON_BLOB should only contain a SINGLE action, do NOT return a list of multiple actions. Here is an example of a valid $JSON_BLOB:\n",
    "\n",
    "```\n",
    "{{{{\n",
    "  \"action\": $TOOL_NAME,\n",
    "  \"action_input\": $INPUT\n",
    "}}}}\n",
    "```\n",
    "\n",
    "ALWAYS use the following format:\n",
    "\n",
    "Question: the input question you must answer\n",
    "Thought: you should always think about what to do\n",
    "Action:\n",
    "```\n",
    "$JSON_BLOB\n",
    "```\n",
    "Observation: the result of the action\n",
    "... (this Thought/Action/Observation can repeat N times)\n",
    "Thought: I now know the final answer\n",
    "Final Answer: the final answer to the original input question\"\"\"\n",
    "\n",
    "\n",
    "SYSTEM_MESSAGE_SUFFIX = \"\"\"Begin! Reminder to always use the exact characters `Final Answer` when responding.\"\"\"\n",
    "HUMAN_MESSAGE = \"{input}\\n\\n{agent_scratchpad}\"\n",
    "```"
   ]
  },
  {
   "cell_type": "markdown",
   "id": "79128bfc",
   "metadata": {},
   "source": [
    "### AgentExecutor\n",
    "这是一个遗留的方法\n",
    "对于我们构建的chain可以简单的循环执行，由大模型决策和规划，得到最终的结果。"
   ]
  },
  {
   "cell_type": "code",
   "execution_count": null,
   "id": "0cdf389a",
   "metadata": {},
   "outputs": [
    {
     "name": "stderr",
     "output_type": "stream",
     "text": [
      "c:\\Users\\mix\\.conda\\envs\\agents\\lib\\site-packages\\langsmith\\client.py:277: LangSmithMissingAPIKeyWarning: API key must be provided when using hosted LangSmith API\n",
      "  warnings.warn(\n"
     ]
    },
    {
     "data": {
      "text/plain": [
       "[SystemMessagePromptTemplate(prompt=PromptTemplate(input_variables=[], input_types={}, partial_variables={}, template='You are a helpful assistant'), additional_kwargs={}),\n",
       " MessagesPlaceholder(variable_name='chat_history', optional=True),\n",
       " HumanMessagePromptTemplate(prompt=PromptTemplate(input_variables=['input'], input_types={}, partial_variables={}, template='{input}'), additional_kwargs={}),\n",
       " MessagesPlaceholder(variable_name='agent_scratchpad')]"
      ]
     },
     "execution_count": 11,
     "metadata": {},
     "output_type": "execute_result"
    }
   ],
   "source": [
    "from langchain import hub\n",
    "\n",
    "# Get the prompt to use - you can modify this!\n",
    "prompt = hub.pull(\"hwchase17/openai-functions-agent\")\n",
    "prompt.messages ### 包括system：helpful,history,input,agent_scratchpad构成的提示词"
   ]
  },
  {
   "cell_type": "code",
   "execution_count": null,
   "id": "b9fed7f4",
   "metadata": {},
   "outputs": [],
   "source": [
    "from langchain.agents import create_tool_calling_agent\n",
    "model = llm\n",
    "tools = [get_weather] # 默认返回天气晴朗\n",
    "\n",
    "agent = create_tool_calling_agent(model, tools, prompt)\n",
    "\n",
    "from langchain.agents import AgentExecutor\n",
    "agent_executor = AgentExecutor(agent=agent, tools=tools)"
   ]
  },
  {
   "cell_type": "code",
   "execution_count": 10,
   "id": "e90307f1",
   "metadata": {},
   "outputs": [
    {
     "data": {
      "text/plain": [
       "{'input': '我在西安我今天能出去吗？', 'output': '今天西安天气晴朗，你可以出去。记得根据温度变化增减衣物哦。'}"
      ]
     },
     "execution_count": 10,
     "metadata": {},
     "output_type": "execute_result"
    }
   ],
   "source": [
    "agent_executor.invoke({\"input\": \"我在西安我今天能出去吗？\"})"
   ]
  },
  {
   "cell_type": "code",
   "execution_count": 12,
   "id": "245deebd",
   "metadata": {},
   "outputs": [
    {
     "name": "stdout",
     "output_type": "stream",
     "text": [
      "\n",
      "\n",
      "\u001b[1m> Entering new AgentExecutor chain...\u001b[0m\n",
      "\u001b[32;1m\u001b[1;3m\n",
      "Invoking: `magic_function` with `{'input': 3}`\n",
      "\n",
      "\n",
      "\u001b[0m\u001b[36;1m\u001b[1;3m5\u001b[0m\u001b[32;1m\u001b[1;3mThe value of magic_function(3) is 5.\u001b[0m\n",
      "\n",
      "\u001b[1m> Finished chain.\u001b[0m\n",
      "\n",
      "\n",
      "\u001b[1m> Entering new AgentExecutor chain...\u001b[0m\n",
      "\u001b[32;1m\u001b[1;3mYour name is Bob. Is there anything else you would like to know or any other questions you have?\u001b[0m\n",
      "\n",
      "\u001b[1m> Finished chain.\u001b[0m\n"
     ]
    },
    {
     "data": {
      "text/plain": [
       "{'input': \"what's my name?\",\n",
       " 'chat_history': [HumanMessage(content='hi! my name is bob', additional_kwargs={}, response_metadata={}),\n",
       "  AIMessage(content='Hello Bob! How can I assist you today?', additional_kwargs={}, response_metadata={})],\n",
       " 'output': 'Your name is Bob. Is there anything else you would like to know or any other questions you have?'}"
      ]
     },
     "execution_count": 12,
     "metadata": {},
     "output_type": "execute_result"
    }
   ],
   "source": [
    "### 上述示例等于下面\n",
    "from langchain.agents import AgentExecutor, create_tool_calling_agent, tool\n",
    "# from langchain_anthropic import ChatAnthropic\n",
    "from langchain_core.prompts import ChatPromptTemplate\n",
    "\n",
    "prompt = ChatPromptTemplate.from_messages(\n",
    "    [\n",
    "        (\"system\", \"You are a helpful assistant\"),\n",
    "        (\"placeholder\", \"{chat_history}\"),\n",
    "        (\"human\", \"{input}\"),\n",
    "        (\"placeholder\", \"{agent_scratchpad}\"),\n",
    "    ]\n",
    ")\n",
    "model = llm\n",
    "\n",
    "@tool\n",
    "def magic_function(input: int) -> int:\n",
    "    \"\"\"Applies a magic function to an input.\"\"\"\n",
    "    return input + 2\n",
    "\n",
    "tools = [magic_function]\n",
    "\n",
    "agent = create_tool_calling_agent(model, tools, prompt)\n",
    "agent_executor = AgentExecutor(agent=agent, tools=tools, verbose=True)\n",
    "\n",
    "agent_executor.invoke({\"input\": \"what is the value of magic_function(3)?\"})\n",
    "\n",
    "# Using with chat history\n",
    "from langchain_core.messages import AIMessage, HumanMessage\n",
    "agent_executor.invoke(\n",
    "    {\n",
    "        \"input\": \"what's my name?\",\n",
    "        \"chat_history\": [\n",
    "            HumanMessage(content=\"hi! my name is bob\"),\n",
    "            AIMessage(content=\"Hello Bob! How can I assist you today?\"),\n",
    "        ],\n",
    "    }\n",
    ")"
   ]
  },
  {
   "cell_type": "markdown",
   "id": "439d88b6",
   "metadata": {},
   "source": [
    "\n",
    "### 使用langgraph创建agent\n",
    "更加细粒度的控制循环执行的过程"
   ]
  },
  {
   "cell_type": "code",
   "execution_count": null,
   "id": "94f293d6",
   "metadata": {},
   "outputs": [],
   "source": [
    "%pip install -U langgraph"
   ]
  },
  {
   "cell_type": "code",
   "execution_count": null,
   "id": "c082586d",
   "metadata": {},
   "outputs": [
    {
     "data": {
      "text/plain": [
       "{'messages': [HumanMessage(content='what is the weather in sf', additional_kwargs={}, response_metadata={}, id='3045659d-ee2a-4e78-afe4-b3e0da3d226d'),\n",
       "  AIMessage(content='', additional_kwargs={'tool_calls': [{'id': 'call_869c7aaaffcc401cba477f', 'function': {'arguments': '{\"query\": \"weather in San Francisco\"}', 'name': 'web_search'}, 'type': 'function', 'index': 0}], 'refusal': None}, response_metadata={'token_usage': {'completion_tokens': 20, 'prompt_tokens': 165, 'total_tokens': 185, 'completion_tokens_details': None, 'prompt_tokens_details': {'audio_tokens': None, 'cached_tokens': 0}}, 'model_name': 'qwen-plus', 'system_fingerprint': None, 'id': 'chatcmpl-1970d1cf-b722-9526-8ad3-cbfed2aa4d5a', 'finish_reason': 'tool_calls', 'logprobs': None}, id='run-7f96b4c4-a5b4-444a-b563-a32f79c936a8-0', tool_calls=[{'name': 'web_search', 'args': {'query': 'weather in San Francisco'}, 'id': 'call_869c7aaaffcc401cba477f', 'type': 'tool_call'}], usage_metadata={'input_tokens': 165, 'output_tokens': 20, 'total_tokens': 185, 'input_token_details': {'cache_read': 0}, 'output_token_details': {}}),\n",
       "  ToolMessage(content=\"It's 60 degrees and foggy.\", name='web_search', id='013b0e6c-712b-41e9-b4d0-18e06e71bda0', tool_call_id='call_869c7aaaffcc401cba477f'),\n",
       "  AIMessage(content='The current weather in San Francisco is 60 degrees and foggy.', additional_kwargs={'refusal': None}, response_metadata={'token_usage': {'completion_tokens': 16, 'prompt_tokens': 202, 'total_tokens': 218, 'completion_tokens_details': None, 'prompt_tokens_details': {'audio_tokens': None, 'cached_tokens': 0}}, 'model_name': 'qwen-plus', 'system_fingerprint': None, 'id': 'chatcmpl-3f24ef3f-8593-9f16-be22-358d2d7306ef', 'finish_reason': 'stop', 'logprobs': None}, id='run-64d9f6c3-84b9-4778-9a04-d52c343b453f-0', usage_metadata={'input_tokens': 202, 'output_tokens': 16, 'total_tokens': 218, 'input_token_details': {'cache_read': 0}, 'output_token_details': {}})]}"
      ]
     },
     "execution_count": 8,
     "metadata": {},
     "output_type": "execute_result"
    }
   ],
   "source": [
    "# This code depends on pip install langchain[anthropic]\n",
    "from langgraph.prebuilt import create_react_agent\n",
    "from langchain_core.tools import tool\n",
    "\n",
    "@tool\n",
    "def web_search(query: str):\n",
    "    \"\"\"Call to surf the web.\"\"\"\n",
    "    if \"sf\" in query.lower() or \"san francisco\" in query.lower():\n",
    "        return \"It's 60 degrees and foggy.\"\n",
    "    return \"It's 90 degrees and sunny.\"\n",
    "\n",
    "### 快速创建一个react的agent\n",
    "agent = create_react_agent(llm, tools=[web_search])\n",
    "\n",
    "agent.invoke(\n",
    "    {\"messages\": [{\"role\": \"user\", \"content\": \"what is the weather in sf\"}]}\n",
    ")\n"
   ]
  }
 ],
 "metadata": {
  "kernelspec": {
   "display_name": "py3.8_env",
   "language": "python",
   "name": "python3"
  },
  "language_info": {
   "codemirror_mode": {
    "name": "ipython",
    "version": 3
   },
   "file_extension": ".py",
   "mimetype": "text/x-python",
   "name": "python",
   "nbconvert_exporter": "python",
   "pygments_lexer": "ipython3",
   "version": "3.8.20"
  }
 },
 "nbformat": 4,
 "nbformat_minor": 5
}
