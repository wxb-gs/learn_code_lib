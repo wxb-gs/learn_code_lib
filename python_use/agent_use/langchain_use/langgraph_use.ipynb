{
 "cells": [
  {
   "cell_type": "code",
   "execution_count": null,
   "id": "0308deb2",
   "metadata": {},
   "outputs": [],
   "source": [
    "import os\n",
    "# from dotenv import load_dotenv\n",
    "# # 加载环境变量\n",
    "# load_dotenv()  \n",
    "\n",
    "### 设置环境\n",
    "os.environ[\"OPENAI_API_KEY\"] =  'sk-d58877221cec4f208dc353259ca9c8bc' # 阿里云Qwen密钥\n",
    "os.environ[\"OPENAI_BASE_URL\"] = 'https://dashscope.aliyuncs.com/compatible-mode/v1'   # 例如：https://dashscope.aliyuncs.com/compatible-mode/v1\n",
    "\n",
    "from langchain_openai import ChatOpenAI\n",
    "\n",
    "# 初始化大模型\n",
    "llm = ChatOpenAI(\n",
    "    # model=os.getenv('DEEPSEEK_MODEL'),\n",
    "    # api_key=os.getenv('DEEPSEEK_API_KEY'),\n",
    "    # base_url=os.getenv('DEEPSEEK_URL')\n",
    "    model = \"qwen-plus\",\n",
    "    api_key =  os.getenv('OPENAI_API_KEY'),\n",
    "    base_url = os.getenv('OPENAI_BASE_URL')\n",
    ")"
   ]
  },
  {
   "cell_type": "markdown",
   "id": "b8b8cbba",
   "metadata": {},
   "source": []
  },
  {
   "cell_type": "code",
   "execution_count": null,
   "id": "6828565d",
   "metadata": {},
   "outputs": [],
   "source": []
  }
 ],
 "metadata": {
  "kernelspec": {
   "display_name": "agent",
   "language": "python",
   "name": "python3"
  },
  "language_info": {
   "codemirror_mode": {
    "name": "ipython",
    "version": 3
   },
   "file_extension": ".py",
   "mimetype": "text/x-python",
   "name": "python",
   "nbconvert_exporter": "python",
   "pygments_lexer": "ipython3",
   "version": "3.10.16"
  }
 },
 "nbformat": 4,
 "nbformat_minor": 5
}
